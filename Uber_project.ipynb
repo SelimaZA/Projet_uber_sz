{
 "cells": [
  {
   "cell_type": "code",
   "execution_count": 1,
   "metadata": {},
   "outputs": [
    {
     "name": "stdout",
     "output_type": "stream",
     "text": [
      "Requirement already satisfied: plotly==4.9.0 in /opt/conda/lib/python3.8/site-packages (4.9.0)\n",
      "Requirement already satisfied: retrying>=1.3.3 in /opt/conda/lib/python3.8/site-packages (from plotly==4.9.0) (1.3.3)\n",
      "Requirement already satisfied: six in /opt/conda/lib/python3.8/site-packages (from plotly==4.9.0) (1.15.0)\n",
      "Requirement already satisfied: jupyterlab in /opt/conda/lib/python3.8/site-packages (2.2.8)\n",
      "Requirement already satisfied: ipywidgets>=7.5 in /opt/conda/lib/python3.8/site-packages (7.5.1)\n",
      "Requirement already satisfied: notebook>=4.3.1 in /opt/conda/lib/python3.8/site-packages (from jupyterlab) (6.1.4)\n",
      "Requirement already satisfied: tornado!=6.0.0,!=6.0.1,!=6.0.2 in /opt/conda/lib/python3.8/site-packages (from jupyterlab) (6.0.4)\n",
      "Requirement already satisfied: jupyterlab_server<2.0,>=1.1.5 in /opt/conda/lib/python3.8/site-packages (from jupyterlab) (1.2.0)\n",
      "Requirement already satisfied: jinja2>=2.10 in /opt/conda/lib/python3.8/site-packages (from jupyterlab) (2.11.2)\n",
      "Requirement already satisfied: ipython>=4.0.0; python_version >= \"3.3\" in /opt/conda/lib/python3.8/site-packages (from ipywidgets>=7.5) (7.18.1)\n",
      "Requirement already satisfied: widgetsnbextension~=3.5.0 in /opt/conda/lib/python3.8/site-packages (from ipywidgets>=7.5) (3.5.1)\n",
      "Requirement already satisfied: nbformat>=4.2.0 in /opt/conda/lib/python3.8/site-packages (from ipywidgets>=7.5) (5.0.7)\n",
      "Requirement already satisfied: ipykernel>=4.5.1 in /opt/conda/lib/python3.8/site-packages (from ipywidgets>=7.5) (5.3.4)\n",
      "Requirement already satisfied: traitlets>=4.3.1 in /opt/conda/lib/python3.8/site-packages (from ipywidgets>=7.5) (5.0.4)\n",
      "Requirement already satisfied: ipython-genutils in /opt/conda/lib/python3.8/site-packages (from notebook>=4.3.1->jupyterlab) (0.2.0)\n",
      "Requirement already satisfied: argon2-cffi in /opt/conda/lib/python3.8/site-packages (from notebook>=4.3.1->jupyterlab) (20.1.0)\n",
      "Requirement already satisfied: Send2Trash in /opt/conda/lib/python3.8/site-packages (from notebook>=4.3.1->jupyterlab) (1.5.0)\n",
      "Requirement already satisfied: terminado>=0.8.3 in /opt/conda/lib/python3.8/site-packages (from notebook>=4.3.1->jupyterlab) (0.9.1)\n",
      "Requirement already satisfied: prometheus-client in /opt/conda/lib/python3.8/site-packages (from notebook>=4.3.1->jupyterlab) (0.8.0)\n",
      "Requirement already satisfied: jupyter-client>=5.3.4 in /opt/conda/lib/python3.8/site-packages (from notebook>=4.3.1->jupyterlab) (6.1.7)\n",
      "Requirement already satisfied: nbconvert in /opt/conda/lib/python3.8/site-packages (from notebook>=4.3.1->jupyterlab) (6.0.7)\n",
      "Requirement already satisfied: jupyter-core>=4.6.1 in /opt/conda/lib/python3.8/site-packages (from notebook>=4.3.1->jupyterlab) (4.6.3)\n",
      "Requirement already satisfied: pyzmq>=17 in /opt/conda/lib/python3.8/site-packages (from notebook>=4.3.1->jupyterlab) (19.0.2)\n",
      "Requirement already satisfied: json5 in /opt/conda/lib/python3.8/site-packages (from jupyterlab_server<2.0,>=1.1.5->jupyterlab) (0.9.5)\n",
      "Requirement already satisfied: jsonschema>=3.0.1 in /opt/conda/lib/python3.8/site-packages (from jupyterlab_server<2.0,>=1.1.5->jupyterlab) (3.2.0)\n",
      "Requirement already satisfied: requests in /opt/conda/lib/python3.8/site-packages (from jupyterlab_server<2.0,>=1.1.5->jupyterlab) (2.24.0)\n",
      "Requirement already satisfied: MarkupSafe>=0.23 in /opt/conda/lib/python3.8/site-packages (from jinja2>=2.10->jupyterlab) (1.1.1)\n",
      "Requirement already satisfied: setuptools>=18.5 in /opt/conda/lib/python3.8/site-packages (from ipython>=4.0.0; python_version >= \"3.3\"->ipywidgets>=7.5) (49.6.0.post20201009)\n",
      "Requirement already satisfied: pexpect>4.3; sys_platform != \"win32\" in /opt/conda/lib/python3.8/site-packages (from ipython>=4.0.0; python_version >= \"3.3\"->ipywidgets>=7.5) (4.8.0)\n",
      "Requirement already satisfied: backcall in /opt/conda/lib/python3.8/site-packages (from ipython>=4.0.0; python_version >= \"3.3\"->ipywidgets>=7.5) (0.2.0)\n",
      "Requirement already satisfied: decorator in /opt/conda/lib/python3.8/site-packages (from ipython>=4.0.0; python_version >= \"3.3\"->ipywidgets>=7.5) (4.4.2)\n",
      "Requirement already satisfied: prompt-toolkit!=3.0.0,!=3.0.1,<3.1.0,>=2.0.0 in /opt/conda/lib/python3.8/site-packages (from ipython>=4.0.0; python_version >= \"3.3\"->ipywidgets>=7.5) (3.0.7)\n",
      "Requirement already satisfied: pickleshare in /opt/conda/lib/python3.8/site-packages (from ipython>=4.0.0; python_version >= \"3.3\"->ipywidgets>=7.5) (0.7.5)\n",
      "Requirement already satisfied: pygments in /opt/conda/lib/python3.8/site-packages (from ipython>=4.0.0; python_version >= \"3.3\"->ipywidgets>=7.5) (2.7.1)\n",
      "Requirement already satisfied: jedi>=0.10 in /opt/conda/lib/python3.8/site-packages (from ipython>=4.0.0; python_version >= \"3.3\"->ipywidgets>=7.5) (0.17.2)\n",
      "Requirement already satisfied: six in /opt/conda/lib/python3.8/site-packages (from argon2-cffi->notebook>=4.3.1->jupyterlab) (1.15.0)\n",
      "Requirement already satisfied: cffi>=1.0.0 in /opt/conda/lib/python3.8/site-packages (from argon2-cffi->notebook>=4.3.1->jupyterlab) (1.14.3)\n",
      "Requirement already satisfied: ptyprocess; os_name != \"nt\" in /opt/conda/lib/python3.8/site-packages (from terminado>=0.8.3->notebook>=4.3.1->jupyterlab) (0.6.0)\n",
      "Requirement already satisfied: python-dateutil>=2.1 in /opt/conda/lib/python3.8/site-packages (from jupyter-client>=5.3.4->notebook>=4.3.1->jupyterlab) (2.8.1)\n",
      "Requirement already satisfied: pandocfilters>=1.4.1 in /opt/conda/lib/python3.8/site-packages (from nbconvert->notebook>=4.3.1->jupyterlab) (1.4.2)\n",
      "Requirement already satisfied: defusedxml in /opt/conda/lib/python3.8/site-packages (from nbconvert->notebook>=4.3.1->jupyterlab) (0.6.0)\n",
      "Requirement already satisfied: bleach in /opt/conda/lib/python3.8/site-packages (from nbconvert->notebook>=4.3.1->jupyterlab) (3.2.1)\n",
      "Requirement already satisfied: nbclient<0.6.0,>=0.5.0 in /opt/conda/lib/python3.8/site-packages (from nbconvert->notebook>=4.3.1->jupyterlab) (0.5.0)\n",
      "Requirement already satisfied: jupyterlab-pygments in /opt/conda/lib/python3.8/site-packages (from nbconvert->notebook>=4.3.1->jupyterlab) (0.1.2)\n",
      "Requirement already satisfied: testpath in /opt/conda/lib/python3.8/site-packages (from nbconvert->notebook>=4.3.1->jupyterlab) (0.4.4)\n",
      "Requirement already satisfied: entrypoints>=0.2.2 in /opt/conda/lib/python3.8/site-packages (from nbconvert->notebook>=4.3.1->jupyterlab) (0.3)\n",
      "Requirement already satisfied: mistune<2,>=0.8.1 in /opt/conda/lib/python3.8/site-packages (from nbconvert->notebook>=4.3.1->jupyterlab) (0.8.4)\n",
      "Requirement already satisfied: pyrsistent>=0.14.0 in /opt/conda/lib/python3.8/site-packages (from jsonschema>=3.0.1->jupyterlab_server<2.0,>=1.1.5->jupyterlab) (0.17.3)\n",
      "Requirement already satisfied: attrs>=17.4.0 in /opt/conda/lib/python3.8/site-packages (from jsonschema>=3.0.1->jupyterlab_server<2.0,>=1.1.5->jupyterlab) (20.2.0)\n",
      "Requirement already satisfied: urllib3!=1.25.0,!=1.25.1,<1.26,>=1.21.1 in /opt/conda/lib/python3.8/site-packages (from requests->jupyterlab_server<2.0,>=1.1.5->jupyterlab) (1.25.10)\n",
      "Requirement already satisfied: certifi>=2017.4.17 in /opt/conda/lib/python3.8/site-packages (from requests->jupyterlab_server<2.0,>=1.1.5->jupyterlab) (2020.6.20)\n",
      "Requirement already satisfied: chardet<4,>=3.0.2 in /opt/conda/lib/python3.8/site-packages (from requests->jupyterlab_server<2.0,>=1.1.5->jupyterlab) (3.0.4)\n",
      "Requirement already satisfied: idna<3,>=2.5 in /opt/conda/lib/python3.8/site-packages (from requests->jupyterlab_server<2.0,>=1.1.5->jupyterlab) (2.10)\n",
      "Requirement already satisfied: wcwidth in /opt/conda/lib/python3.8/site-packages (from prompt-toolkit!=3.0.0,!=3.0.1,<3.1.0,>=2.0.0->ipython>=4.0.0; python_version >= \"3.3\"->ipywidgets>=7.5) (0.2.5)\n",
      "Requirement already satisfied: parso<0.8.0,>=0.7.0 in /opt/conda/lib/python3.8/site-packages (from jedi>=0.10->ipython>=4.0.0; python_version >= \"3.3\"->ipywidgets>=7.5) (0.7.1)\n",
      "Requirement already satisfied: pycparser in /opt/conda/lib/python3.8/site-packages (from cffi>=1.0.0->argon2-cffi->notebook>=4.3.1->jupyterlab) (2.20)\n",
      "Requirement already satisfied: packaging in /opt/conda/lib/python3.8/site-packages (from bleach->nbconvert->notebook>=4.3.1->jupyterlab) (20.4)\n",
      "Requirement already satisfied: webencodings in /opt/conda/lib/python3.8/site-packages (from bleach->nbconvert->notebook>=4.3.1->jupyterlab) (0.5.1)\n",
      "Requirement already satisfied: nest-asyncio in /opt/conda/lib/python3.8/site-packages (from nbclient<0.6.0,>=0.5.0->nbconvert->notebook>=4.3.1->jupyterlab) (1.4.1)\n",
      "Requirement already satisfied: async-generator in /opt/conda/lib/python3.8/site-packages (from nbclient<0.6.0,>=0.5.0->nbconvert->notebook>=4.3.1->jupyterlab) (1.10)\n",
      "Requirement already satisfied: pyparsing>=2.0.2 in /opt/conda/lib/python3.8/site-packages (from packaging->bleach->nbconvert->notebook>=4.3.1->jupyterlab) (2.4.7)\n",
      "Building jupyterlab assets (build:prod:minimize)\n",
      "Building jupyterlab assets (build:prod:minimize)\n"
     ]
    }
   ],
   "source": [
    "!pip install plotly==4.9.0\n",
    "!pip install jupyterlab \"ipywidgets>=7.5\"\n",
    "!jupyter labextension install jupyterlab-plotly@4.9.0\n",
    "!jupyter labextension install @jupyter-widgets/jupyterlab-manager plotlywidget@4.9.0"
   ]
  },
  {
   "cell_type": "markdown",
   "metadata": {},
   "source": [
    "L'équipe de données d'Uber aimerait travailler sur un projet dans lequel son application recommanderait des zones chaudes dans les grandes villes à n'importe quel moment de la journée."
   ]
  },
  {
   "cell_type": "code",
   "execution_count": 2,
   "metadata": {},
   "outputs": [],
   "source": [
    "import pandas as pd\n",
    "import plotly.express as px\n",
    "import plotly.io as pio\n",
    "from bokeh.io import export_png\n",
    "pio.renderers.default = \"iframe_connected\""
   ]
  },
  {
   "cell_type": "code",
   "execution_count": 3,
   "metadata": {},
   "outputs": [
    {
     "data": {
      "text/html": [
       "<div>\n",
       "<style scoped>\n",
       "    .dataframe tbody tr th:only-of-type {\n",
       "        vertical-align: middle;\n",
       "    }\n",
       "\n",
       "    .dataframe tbody tr th {\n",
       "        vertical-align: top;\n",
       "    }\n",
       "\n",
       "    .dataframe thead th {\n",
       "        text-align: right;\n",
       "    }\n",
       "</style>\n",
       "<table border=\"1\" class=\"dataframe\">\n",
       "  <thead>\n",
       "    <tr style=\"text-align: right;\">\n",
       "      <th></th>\n",
       "      <th>Date/Time</th>\n",
       "      <th>Lat</th>\n",
       "      <th>Lon</th>\n",
       "      <th>Base</th>\n",
       "    </tr>\n",
       "  </thead>\n",
       "  <tbody>\n",
       "    <tr>\n",
       "      <th>0</th>\n",
       "      <td>6/1/2014 0:00:00</td>\n",
       "      <td>40.7293</td>\n",
       "      <td>-73.9920</td>\n",
       "      <td>B02512</td>\n",
       "    </tr>\n",
       "    <tr>\n",
       "      <th>1</th>\n",
       "      <td>6/1/2014 0:01:00</td>\n",
       "      <td>40.7131</td>\n",
       "      <td>-74.0097</td>\n",
       "      <td>B02512</td>\n",
       "    </tr>\n",
       "  </tbody>\n",
       "</table>\n",
       "</div>"
      ],
      "text/plain": [
       "          Date/Time      Lat      Lon    Base\n",
       "0  6/1/2014 0:00:00  40.7293 -73.9920  B02512\n",
       "1  6/1/2014 0:01:00  40.7131 -74.0097  B02512"
      ]
     },
     "execution_count": 3,
     "metadata": {},
     "output_type": "execute_result"
    }
   ],
   "source": [
    "data_jun14 = pd.read_csv(\"https://raw.githubusercontent.com/fivethirtyeight/uber-tlc-foil-response/master/uber-trip-data/uber-raw-data-jun14.csv\")\n",
    "data_jun14.head(2)"
   ]
  },
  {
   "cell_type": "code",
   "execution_count": 4,
   "metadata": {},
   "outputs": [
    {
     "data": {
      "text/html": [
       "<div>\n",
       "<style scoped>\n",
       "    .dataframe tbody tr th:only-of-type {\n",
       "        vertical-align: middle;\n",
       "    }\n",
       "\n",
       "    .dataframe tbody tr th {\n",
       "        vertical-align: top;\n",
       "    }\n",
       "\n",
       "    .dataframe thead th {\n",
       "        text-align: right;\n",
       "    }\n",
       "</style>\n",
       "<table border=\"1\" class=\"dataframe\">\n",
       "  <thead>\n",
       "    <tr style=\"text-align: right;\">\n",
       "      <th></th>\n",
       "      <th>Date/Time</th>\n",
       "      <th>Lat</th>\n",
       "      <th>Lon</th>\n",
       "    </tr>\n",
       "  </thead>\n",
       "  <tbody>\n",
       "    <tr>\n",
       "      <th>0</th>\n",
       "      <td>6/1/2014 0:00:00</td>\n",
       "      <td>40.7293</td>\n",
       "      <td>-73.9920</td>\n",
       "    </tr>\n",
       "    <tr>\n",
       "      <th>1</th>\n",
       "      <td>6/1/2014 0:01:00</td>\n",
       "      <td>40.7131</td>\n",
       "      <td>-74.0097</td>\n",
       "    </tr>\n",
       "    <tr>\n",
       "      <th>2</th>\n",
       "      <td>6/1/2014 0:04:00</td>\n",
       "      <td>40.3461</td>\n",
       "      <td>-74.6610</td>\n",
       "    </tr>\n",
       "    <tr>\n",
       "      <th>3</th>\n",
       "      <td>6/1/2014 0:04:00</td>\n",
       "      <td>40.7555</td>\n",
       "      <td>-73.9833</td>\n",
       "    </tr>\n",
       "    <tr>\n",
       "      <th>4</th>\n",
       "      <td>6/1/2014 0:07:00</td>\n",
       "      <td>40.6880</td>\n",
       "      <td>-74.1831</td>\n",
       "    </tr>\n",
       "  </tbody>\n",
       "</table>\n",
       "</div>"
      ],
      "text/plain": [
       "          Date/Time      Lat      Lon\n",
       "0  6/1/2014 0:00:00  40.7293 -73.9920\n",
       "1  6/1/2014 0:01:00  40.7131 -74.0097\n",
       "2  6/1/2014 0:04:00  40.3461 -74.6610\n",
       "3  6/1/2014 0:04:00  40.7555 -73.9833\n",
       "4  6/1/2014 0:07:00  40.6880 -74.1831"
      ]
     },
     "execution_count": 4,
     "metadata": {},
     "output_type": "execute_result"
    }
   ],
   "source": [
    "data_jun14=data_jun14.drop(columns=\"Base\",axis=1)\n",
    "data_jun14.head()"
   ]
  },
  {
   "cell_type": "code",
   "execution_count": 5,
   "metadata": {},
   "outputs": [
    {
     "data": {
      "text/plain": [
       "(663844, 3)"
      ]
     },
     "execution_count": 5,
     "metadata": {},
     "output_type": "execute_result"
    }
   ],
   "source": [
    "data_jun14.shape"
   ]
  },
  {
   "cell_type": "code",
   "execution_count": 6,
   "metadata": {},
   "outputs": [],
   "source": [
    "import datetime as dt  \n",
    "data_jun14['Date/Time'] = pd.to_datetime(data_jun14['Date/Time'], format = '%m/%d/%Y %H:%M:%S')"
   ]
  },
  {
   "cell_type": "code",
   "execution_count": 7,
   "metadata": {},
   "outputs": [],
   "source": [
    "data_jun14['hour'] = data_jun14['Date/Time'].dt.hour\n",
    "data_jun14['dayofmonth'] = data_jun14['Date/Time'].dt.day\n",
    "data_jun14['day_name'] = data_jun14['Date/Time'].dt.day_name()\n",
    "data_jun14=data_jun14.drop(columns=\"Date/Time\",axis=1)"
   ]
  },
  {
   "cell_type": "code",
   "execution_count": 8,
   "metadata": {},
   "outputs": [
    {
     "data": {
      "text/html": [
       "<div>\n",
       "<style scoped>\n",
       "    .dataframe tbody tr th:only-of-type {\n",
       "        vertical-align: middle;\n",
       "    }\n",
       "\n",
       "    .dataframe tbody tr th {\n",
       "        vertical-align: top;\n",
       "    }\n",
       "\n",
       "    .dataframe thead th {\n",
       "        text-align: right;\n",
       "    }\n",
       "</style>\n",
       "<table border=\"1\" class=\"dataframe\">\n",
       "  <thead>\n",
       "    <tr style=\"text-align: right;\">\n",
       "      <th></th>\n",
       "      <th>Lat</th>\n",
       "      <th>Lon</th>\n",
       "      <th>hour</th>\n",
       "      <th>dayofmonth</th>\n",
       "      <th>day_name</th>\n",
       "    </tr>\n",
       "  </thead>\n",
       "  <tbody>\n",
       "    <tr>\n",
       "      <th>663839</th>\n",
       "      <td>40.7332</td>\n",
       "      <td>-73.9872</td>\n",
       "      <td>22</td>\n",
       "      <td>30</td>\n",
       "      <td>Monday</td>\n",
       "    </tr>\n",
       "    <tr>\n",
       "      <th>663840</th>\n",
       "      <td>40.7905</td>\n",
       "      <td>-73.9796</td>\n",
       "      <td>23</td>\n",
       "      <td>30</td>\n",
       "      <td>Monday</td>\n",
       "    </tr>\n",
       "    <tr>\n",
       "      <th>663841</th>\n",
       "      <td>40.7640</td>\n",
       "      <td>-73.9887</td>\n",
       "      <td>23</td>\n",
       "      <td>30</td>\n",
       "      <td>Monday</td>\n",
       "    </tr>\n",
       "    <tr>\n",
       "      <th>663842</th>\n",
       "      <td>40.7262</td>\n",
       "      <td>-73.9944</td>\n",
       "      <td>23</td>\n",
       "      <td>30</td>\n",
       "      <td>Monday</td>\n",
       "    </tr>\n",
       "    <tr>\n",
       "      <th>663843</th>\n",
       "      <td>40.7404</td>\n",
       "      <td>-73.9848</td>\n",
       "      <td>23</td>\n",
       "      <td>30</td>\n",
       "      <td>Monday</td>\n",
       "    </tr>\n",
       "  </tbody>\n",
       "</table>\n",
       "</div>"
      ],
      "text/plain": [
       "            Lat      Lon  hour  dayofmonth day_name\n",
       "663839  40.7332 -73.9872    22          30   Monday\n",
       "663840  40.7905 -73.9796    23          30   Monday\n",
       "663841  40.7640 -73.9887    23          30   Monday\n",
       "663842  40.7262 -73.9944    23          30   Monday\n",
       "663843  40.7404 -73.9848    23          30   Monday"
      ]
     },
     "execution_count": 8,
     "metadata": {},
     "output_type": "execute_result"
    }
   ],
   "source": [
    "data_jun14.tail()"
   ]
  },
  {
   "cell_type": "code",
   "execution_count": 9,
   "metadata": {},
   "outputs": [
    {
     "data": {
      "text/plain": [
       "(663844, 5)"
      ]
     },
     "execution_count": 9,
     "metadata": {},
     "output_type": "execute_result"
    }
   ],
   "source": [
    "data_jun14.shape"
   ]
  },
  {
   "cell_type": "code",
   "execution_count": 10,
   "metadata": {},
   "outputs": [
    {
     "name": "stdout",
     "output_type": "stream",
     "text": [
      "<class 'pandas.core.frame.DataFrame'>\n",
      "RangeIndex: 663844 entries, 0 to 663843\n",
      "Data columns (total 5 columns):\n",
      " #   Column      Non-Null Count   Dtype  \n",
      "---  ------      --------------   -----  \n",
      " 0   Lat         663844 non-null  float64\n",
      " 1   Lon         663844 non-null  float64\n",
      " 2   hour        663844 non-null  int64  \n",
      " 3   dayofmonth  663844 non-null  int64  \n",
      " 4   day_name    663844 non-null  object \n",
      "dtypes: float64(2), int64(2), object(1)\n",
      "memory usage: 25.3+ MB\n"
     ]
    }
   ],
   "source": [
    "data_jun14.info()"
   ]
  },
  {
   "cell_type": "code",
   "execution_count": 11,
   "metadata": {},
   "outputs": [
    {
     "data": {
      "text/plain": [
       "(1684, 5)"
      ]
     },
     "execution_count": 11,
     "metadata": {},
     "output_type": "execute_result"
    }
   ],
   "source": [
    "# Nous filtrons les données sur le nom du jour et sur l'heure\n",
    "data_jun14_filt= data_jun14.loc[(data_jun14['day_name'] == 'Friday') & (data_jun14['dayofmonth'] == 6) & (data_jun14['hour'] == 22), :]\n",
    "data_jun14_filt.shape"
   ]
  },
  {
   "cell_type": "code",
   "execution_count": 12,
   "metadata": {},
   "outputs": [
    {
     "name": "stdout",
     "output_type": "stream",
     "text": [
      "Performing preprocessings on train set...\n",
      "...Done.\n",
      "          Lat      Lon  hour  dayofmonth day_name\n",
      "6914  40.7725 -73.9773    22           6   Friday\n",
      "6915  40.7405 -73.9840    22           6   Friday\n",
      "6916  40.7940 -73.9211    22           6   Friday\n",
      "6917  40.8000 -73.9255    22           6   Friday\n",
      "6918  40.7325 -74.0005    22           6   Friday\n",
      "...Terminé.\n",
      "[[ 0.97796877  0.03521747  0.          0.        ]\n",
      " [ 0.00607972 -0.10875575  0.          0.        ]\n",
      " [ 1.63095672  1.24287347  0.          0.        ]\n",
      " [ 1.81318592  1.14832389  0.          0.        ]\n",
      " [-0.23689255 -0.46331668  0.          0.        ]]\n",
      "\n"
     ]
    }
   ],
   "source": [
    "# Import Standard Scaler\n",
    "from sklearn.preprocessing import StandardScaler,OneHotEncoder\n",
    "from sklearn.compose import ColumnTransformer\n",
    "\n",
    "# Initialize StandardScaler\n",
    "# StandardScaler will substract mean and divide by standard deviation to each observation\n",
    "\n",
    "\n",
    "numeric_features = [0,1,2,3] \n",
    "numeric_transformer =  StandardScaler()\n",
    "\n",
    "\n",
    "categorical_features = [4] \n",
    "categorical_transformer =OneHotEncoder(drop='first')\n",
    "\n",
    "preprocessor = ColumnTransformer(\n",
    "    transformers=[\n",
    "        ('num', numeric_transformer, numeric_features),\n",
    "        ('cat', categorical_transformer, categorical_features)\n",
    "    ])\n",
    "print(\"Performing preprocessings on train set...\")\n",
    "X= preprocessor.fit_transform(data_jun14_filt)  \n",
    "print('...Done.')\n",
    "\n",
    "# Preprocessings sur le dataset\n",
    "print(data_jun14_filt.head())\n",
    "X = preprocessor.fit_transform(data_jun14_filt) # fit_transform !!\n",
    "print('...Terminé.')\n",
    "print(X[0:5, :])\n",
    "print()"
   ]
  },
  {
   "cell_type": "code",
   "execution_count": 13,
   "metadata": {},
   "outputs": [
    {
     "name": "stdout",
     "output_type": "stream",
     "text": [
      "WCSS for K=1 --> 3367.999999999999\n",
      "WCSS for K=2 --> 2337.349264875635\n",
      "WCSS for K=3 --> 1631.1313206965851\n",
      "WCSS for K=4 --> 1269.0333037153941\n",
      "WCSS for K=5 --> 987.3297004376841\n",
      "WCSS for K=6 --> 775.6012990960456\n",
      "WCSS for K=7 --> 671.4943890089855\n",
      "WCSS for K=8 --> 618.9567684151434\n",
      "WCSS for K=9 --> 519.2478843406886\n",
      "WCSS for K=10 --> 473.81091203344465\n"
     ]
    }
   ],
   "source": [
    "# Let's create a loop that will collect the Within-sum-of-square (wcss) for each value K \n",
    "# Let's use .inertia_ parameter to get the within sum of square value for each value K \n",
    "from sklearn.cluster import KMeans\n",
    "wcss =  []# une liste qui va définir les coûts de nos modèles pr une valeur de k allant de 1 à 10 \n",
    "k = []\n",
    "for i in range (1,11): \n",
    "    kmeans = KMeans(n_clusters= i, init = \"k-means++\", random_state = 0)\n",
    "    kmeans.fit(X)\n",
    "    wcss.append(kmeans.inertia_)\n",
    "    k.append(i)\n",
    "    print(\"WCSS for K={} --> {}\".format(i, wcss[-1]))"
   ]
  },
  {
   "cell_type": "code",
   "execution_count": 14,
   "metadata": {},
   "outputs": [
    {
     "data": {
      "text/html": [
       "<iframe\n",
       "    scrolling=\"no\"\n",
       "    width=\"100%\"\n",
       "    height=\"545px\"\n",
       "    src=\"iframe_figures/figure_14.html\"\n",
       "    frameborder=\"0\"\n",
       "    allowfullscreen\n",
       "></iframe>\n"
      ]
     },
     "metadata": {},
     "output_type": "display_data"
    }
   ],
   "source": [
    "# Let's visualize using plotly\n",
    "import plotly.express as px\n",
    "\n",
    "# Create DataFrame\n",
    "wcss_frame = pd.DataFrame(wcss)\n",
    "k_frame = pd.Series(k)\n",
    "\n",
    "# Create figure\n",
    "fig= px.line(\n",
    "    wcss_frame,\n",
    "    x=k_frame,\n",
    "    y=wcss_frame.iloc[:,-1]\n",
    ")\n",
    "\n",
    "# Create title and axis labels\n",
    "fig.update_layout(\n",
    "    yaxis_title=\"Inertia\",\n",
    "    xaxis_title=\"# Clusters\",\n",
    "    title=\"Inertia per cluster\"\n",
    ")"
   ]
  },
  {
   "cell_type": "code",
   "execution_count": 15,
   "metadata": {},
   "outputs": [
    {
     "name": "stdout",
     "output_type": "stream",
     "text": [
      "Silhouette score for K=2 is 0.5551708582772285\n",
      "Silhouette score for K=3 is 0.5150984029474179\n",
      "Silhouette score for K=4 is 0.3732113127408283\n",
      "Silhouette score for K=5 is 0.39027907804089035\n",
      "Silhouette score for K=6 is 0.45648856553530454\n",
      "Silhouette score for K=7 is 0.45745460846745056\n",
      "Silhouette score for K=8 is 0.483716322348675\n",
      "Silhouette score for K=9 is 0.483914772732267\n",
      "Silhouette score for K=10 is 0.39747652822324725\n"
     ]
    }
   ],
   "source": [
    "# Import silhouette score\n",
    "from sklearn.metrics import silhouette_score\n",
    "\n",
    "# Computer mean silhouette score\n",
    "sil = []\n",
    "k = []\n",
    "\n",
    "## on doit commencer par i=2 car le score de silhouette regarde pr un pt donnée à quel pt il est proche de son centroide et éloigné \n",
    "# du cluster le plus proche\n",
    "for i in range (2,11):\n",
    "    kmeans = KMeans(n_clusters= i, init = \"k-means++\", random_state = 0)\n",
    "    kmeans.fit(X)\n",
    "    sil.append(silhouette_score(X, kmeans.predict(X))) # il attend la valeur du feature et à quel cluster j'ai assigné ce feature \n",
    "    k.append(i)\n",
    "    print(\"Silhouette score for K={} is {}\".format(i, sil[-1]))"
   ]
  },
  {
   "cell_type": "code",
   "execution_count": 16,
   "metadata": {},
   "outputs": [
    {
     "data": {
      "text/html": [
       "<iframe\n",
       "    scrolling=\"no\"\n",
       "    width=\"100%\"\n",
       "    height=\"545px\"\n",
       "    src=\"iframe_figures/figure_16.html\"\n",
       "    frameborder=\"0\"\n",
       "    allowfullscreen\n",
       "></iframe>\n"
      ]
     },
     "metadata": {},
     "output_type": "display_data"
    }
   ],
   "source": [
    "# Create a data frame \n",
    "cluster_scores=pd.DataFrame(sil)\n",
    "k_frame = pd.Series(k)\n",
    "\n",
    "# Create figure\n",
    "fig = px.bar(data_frame=cluster_scores,  \n",
    "             x=k, \n",
    "             y=cluster_scores.iloc[:, -1]\n",
    "            )\n",
    "\n",
    "# Add title and axis labels\n",
    "fig.update_layout(\n",
    "    yaxis_title=\"Silhouette Score\",\n",
    "    xaxis_title=\"# Clusters\",\n",
    "    title=\"Silhouette Score per cluster\"\n",
    ")"
   ]
  },
  {
   "cell_type": "code",
   "execution_count": 17,
   "metadata": {},
   "outputs": [
    {
     "data": {
      "text/plain": [
       "KMeans(n_clusters=6)"
      ]
     },
     "execution_count": 17,
     "metadata": {},
     "output_type": "execute_result"
    }
   ],
   "source": [
    "# On ré-entraîne un KMeans avec le nombre optimal de clusters\n",
    "kmeans = KMeans(n_clusters= 6)\n",
    "kmeans.fit(X)"
   ]
  },
  {
   "cell_type": "code",
   "execution_count": 18,
   "metadata": {},
   "outputs": [
    {
     "name": "stderr",
     "output_type": "stream",
     "text": [
      "/opt/conda/lib/python3.8/site-packages/pandas/core/indexing.py:1596: SettingWithCopyWarning:\n",
      "\n",
      "\n",
      "A value is trying to be set on a copy of a slice from a DataFrame.\n",
      "Try using .loc[row_indexer,col_indexer] = value instead\n",
      "\n",
      "See the caveats in the documentation: https://pandas.pydata.org/pandas-docs/stable/user_guide/indexing.html#returning-a-view-versus-a-copy\n",
      "\n",
      "/opt/conda/lib/python3.8/site-packages/pandas/core/indexing.py:1745: SettingWithCopyWarning:\n",
      "\n",
      "\n",
      "A value is trying to be set on a copy of a slice from a DataFrame.\n",
      "Try using .loc[row_indexer,col_indexer] = value instead\n",
      "\n",
      "See the caveats in the documentation: https://pandas.pydata.org/pandas-docs/stable/user_guide/indexing.html#returning-a-view-versus-a-copy\n",
      "\n"
     ]
    },
    {
     "data": {
      "text/html": [
       "<div>\n",
       "<style scoped>\n",
       "    .dataframe tbody tr th:only-of-type {\n",
       "        vertical-align: middle;\n",
       "    }\n",
       "\n",
       "    .dataframe tbody tr th {\n",
       "        vertical-align: top;\n",
       "    }\n",
       "\n",
       "    .dataframe thead th {\n",
       "        text-align: right;\n",
       "    }\n",
       "</style>\n",
       "<table border=\"1\" class=\"dataframe\">\n",
       "  <thead>\n",
       "    <tr style=\"text-align: right;\">\n",
       "      <th></th>\n",
       "      <th>Lat</th>\n",
       "      <th>Lon</th>\n",
       "      <th>hour</th>\n",
       "      <th>dayofmonth</th>\n",
       "      <th>day_name</th>\n",
       "      <th>Cluster_KMeans</th>\n",
       "    </tr>\n",
       "  </thead>\n",
       "  <tbody>\n",
       "    <tr>\n",
       "      <th>6914</th>\n",
       "      <td>40.7725</td>\n",
       "      <td>-73.9773</td>\n",
       "      <td>22</td>\n",
       "      <td>6</td>\n",
       "      <td>Friday</td>\n",
       "      <td>0</td>\n",
       "    </tr>\n",
       "    <tr>\n",
       "      <th>6915</th>\n",
       "      <td>40.7405</td>\n",
       "      <td>-73.9840</td>\n",
       "      <td>22</td>\n",
       "      <td>6</td>\n",
       "      <td>Friday</td>\n",
       "      <td>1</td>\n",
       "    </tr>\n",
       "    <tr>\n",
       "      <th>6916</th>\n",
       "      <td>40.7940</td>\n",
       "      <td>-73.9211</td>\n",
       "      <td>22</td>\n",
       "      <td>6</td>\n",
       "      <td>Friday</td>\n",
       "      <td>4</td>\n",
       "    </tr>\n",
       "    <tr>\n",
       "      <th>6917</th>\n",
       "      <td>40.8000</td>\n",
       "      <td>-73.9255</td>\n",
       "      <td>22</td>\n",
       "      <td>6</td>\n",
       "      <td>Friday</td>\n",
       "      <td>4</td>\n",
       "    </tr>\n",
       "    <tr>\n",
       "      <th>6918</th>\n",
       "      <td>40.7325</td>\n",
       "      <td>-74.0005</td>\n",
       "      <td>22</td>\n",
       "      <td>6</td>\n",
       "      <td>Friday</td>\n",
       "      <td>1</td>\n",
       "    </tr>\n",
       "  </tbody>\n",
       "</table>\n",
       "</div>"
      ],
      "text/plain": [
       "          Lat      Lon  hour  dayofmonth day_name  Cluster_KMeans\n",
       "6914  40.7725 -73.9773    22           6   Friday               0\n",
       "6915  40.7405 -73.9840    22           6   Friday               1\n",
       "6916  40.7940 -73.9211    22           6   Friday               4\n",
       "6917  40.8000 -73.9255    22           6   Friday               4\n",
       "6918  40.7325 -74.0005    22           6   Friday               1"
      ]
     },
     "execution_count": 18,
     "metadata": {},
     "output_type": "execute_result"
    }
   ],
   "source": [
    "data_jun14_filt.loc[:,'Cluster_KMeans'] = kmeans.predict(X)\n",
    "data_jun14_filt.head()"
   ]
  },
  {
   "cell_type": "code",
   "execution_count": 19,
   "metadata": {},
   "outputs": [
    {
     "data": {
      "text/html": [
       "<iframe\n",
       "    scrolling=\"no\"\n",
       "    width=\"100%\"\n",
       "    height=\"545px\"\n",
       "    src=\"iframe_figures/figure_19.html\"\n",
       "    frameborder=\"0\"\n",
       "    allowfullscreen\n",
       "></iframe>\n"
      ]
     },
     "metadata": {},
     "output_type": "display_data"
    }
   ],
   "source": [
    "fig = px.scatter_mapbox(\n",
    "        data_jun14_filt, \n",
    "        lat=\"Lat\", \n",
    "        lon=\"Lon\",\n",
    "        color=\"Cluster_KMeans\",\n",
    "        mapbox_style=\"carto-positron\"\n",
    ")\n",
    "fig.show()"
   ]
  },
  {
   "cell_type": "code",
   "execution_count": 20,
   "metadata": {},
   "outputs": [
    {
     "data": {
      "text/plain": [
       "DBSCAN(algorithm='brute', eps=0.08, metric='manhattan', min_samples=32)"
      ]
     },
     "execution_count": 20,
     "metadata": {},
     "output_type": "execute_result"
    }
   ],
   "source": [
    "from sklearn.cluster import DBSCAN\n",
    "\n",
    "db = DBSCAN(eps=0.08, min_samples=32, metric=\"manhattan\", algorithm=\"brute\")\n",
    "\n",
    "db.fit(X)\n",
    "#on utilise la métric manhattan qd on a des vbles catégoriques "
   ]
  },
  {
   "cell_type": "code",
   "execution_count": 21,
   "metadata": {},
   "outputs": [
    {
     "data": {
      "text/plain": [
       "array([-1,  0,  1,  2,  3,  4])"
      ]
     },
     "execution_count": 21,
     "metadata": {},
     "output_type": "execute_result"
    }
   ],
   "source": [
    "import numpy as np \n",
    "label=db.labels_\n",
    "np.unique(label)"
   ]
  },
  {
   "cell_type": "code",
   "execution_count": 22,
   "metadata": {},
   "outputs": [
    {
     "name": "stderr",
     "output_type": "stream",
     "text": [
      "<ipython-input-22-206093aadc30>:1: SettingWithCopyWarning:\n",
      "\n",
      "\n",
      "A value is trying to be set on a copy of a slice from a DataFrame.\n",
      "Try using .loc[row_indexer,col_indexer] = value instead\n",
      "\n",
      "See the caveats in the documentation: https://pandas.pydata.org/pandas-docs/stable/user_guide/indexing.html#returning-a-view-versus-a-copy\n",
      "\n"
     ]
    },
    {
     "data": {
      "text/html": [
       "<div>\n",
       "<style scoped>\n",
       "    .dataframe tbody tr th:only-of-type {\n",
       "        vertical-align: middle;\n",
       "    }\n",
       "\n",
       "    .dataframe tbody tr th {\n",
       "        vertical-align: top;\n",
       "    }\n",
       "\n",
       "    .dataframe thead th {\n",
       "        text-align: right;\n",
       "    }\n",
       "</style>\n",
       "<table border=\"1\" class=\"dataframe\">\n",
       "  <thead>\n",
       "    <tr style=\"text-align: right;\">\n",
       "      <th></th>\n",
       "      <th>Lat</th>\n",
       "      <th>Lon</th>\n",
       "      <th>hour</th>\n",
       "      <th>dayofmonth</th>\n",
       "      <th>day_name</th>\n",
       "      <th>Cluster_KMeans</th>\n",
       "      <th>cluster_dbscan</th>\n",
       "    </tr>\n",
       "  </thead>\n",
       "  <tbody>\n",
       "    <tr>\n",
       "      <th>6914</th>\n",
       "      <td>40.7725</td>\n",
       "      <td>-73.9773</td>\n",
       "      <td>22</td>\n",
       "      <td>6</td>\n",
       "      <td>Friday</td>\n",
       "      <td>0</td>\n",
       "      <td>-1</td>\n",
       "    </tr>\n",
       "    <tr>\n",
       "      <th>6915</th>\n",
       "      <td>40.7405</td>\n",
       "      <td>-73.9840</td>\n",
       "      <td>22</td>\n",
       "      <td>6</td>\n",
       "      <td>Friday</td>\n",
       "      <td>1</td>\n",
       "      <td>-1</td>\n",
       "    </tr>\n",
       "    <tr>\n",
       "      <th>6916</th>\n",
       "      <td>40.7940</td>\n",
       "      <td>-73.9211</td>\n",
       "      <td>22</td>\n",
       "      <td>6</td>\n",
       "      <td>Friday</td>\n",
       "      <td>4</td>\n",
       "      <td>-1</td>\n",
       "    </tr>\n",
       "    <tr>\n",
       "      <th>6917</th>\n",
       "      <td>40.8000</td>\n",
       "      <td>-73.9255</td>\n",
       "      <td>22</td>\n",
       "      <td>6</td>\n",
       "      <td>Friday</td>\n",
       "      <td>4</td>\n",
       "      <td>-1</td>\n",
       "    </tr>\n",
       "    <tr>\n",
       "      <th>6918</th>\n",
       "      <td>40.7325</td>\n",
       "      <td>-74.0005</td>\n",
       "      <td>22</td>\n",
       "      <td>6</td>\n",
       "      <td>Friday</td>\n",
       "      <td>1</td>\n",
       "      <td>0</td>\n",
       "    </tr>\n",
       "    <tr>\n",
       "      <th>...</th>\n",
       "      <td>...</td>\n",
       "      <td>...</td>\n",
       "      <td>...</td>\n",
       "      <td>...</td>\n",
       "      <td>...</td>\n",
       "      <td>...</td>\n",
       "      <td>...</td>\n",
       "    </tr>\n",
       "    <tr>\n",
       "      <th>656577</th>\n",
       "      <td>40.7091</td>\n",
       "      <td>-74.0125</td>\n",
       "      <td>22</td>\n",
       "      <td>6</td>\n",
       "      <td>Friday</td>\n",
       "      <td>1</td>\n",
       "      <td>-1</td>\n",
       "    </tr>\n",
       "    <tr>\n",
       "      <th>656578</th>\n",
       "      <td>40.8046</td>\n",
       "      <td>-73.9372</td>\n",
       "      <td>22</td>\n",
       "      <td>6</td>\n",
       "      <td>Friday</td>\n",
       "      <td>4</td>\n",
       "      <td>3</td>\n",
       "    </tr>\n",
       "    <tr>\n",
       "      <th>656579</th>\n",
       "      <td>40.7638</td>\n",
       "      <td>-73.9815</td>\n",
       "      <td>22</td>\n",
       "      <td>6</td>\n",
       "      <td>Friday</td>\n",
       "      <td>0</td>\n",
       "      <td>-1</td>\n",
       "    </tr>\n",
       "    <tr>\n",
       "      <th>656580</th>\n",
       "      <td>40.7345</td>\n",
       "      <td>-74.0014</td>\n",
       "      <td>22</td>\n",
       "      <td>6</td>\n",
       "      <td>Friday</td>\n",
       "      <td>1</td>\n",
       "      <td>0</td>\n",
       "    </tr>\n",
       "    <tr>\n",
       "      <th>656581</th>\n",
       "      <td>40.7380</td>\n",
       "      <td>-74.0092</td>\n",
       "      <td>22</td>\n",
       "      <td>6</td>\n",
       "      <td>Friday</td>\n",
       "      <td>1</td>\n",
       "      <td>-1</td>\n",
       "    </tr>\n",
       "  </tbody>\n",
       "</table>\n",
       "<p>1684 rows × 7 columns</p>\n",
       "</div>"
      ],
      "text/plain": [
       "            Lat      Lon  hour  dayofmonth day_name  Cluster_KMeans  \\\n",
       "6914    40.7725 -73.9773    22           6   Friday               0   \n",
       "6915    40.7405 -73.9840    22           6   Friday               1   \n",
       "6916    40.7940 -73.9211    22           6   Friday               4   \n",
       "6917    40.8000 -73.9255    22           6   Friday               4   \n",
       "6918    40.7325 -74.0005    22           6   Friday               1   \n",
       "...         ...      ...   ...         ...      ...             ...   \n",
       "656577  40.7091 -74.0125    22           6   Friday               1   \n",
       "656578  40.8046 -73.9372    22           6   Friday               4   \n",
       "656579  40.7638 -73.9815    22           6   Friday               0   \n",
       "656580  40.7345 -74.0014    22           6   Friday               1   \n",
       "656581  40.7380 -74.0092    22           6   Friday               1   \n",
       "\n",
       "        cluster_dbscan  \n",
       "6914                -1  \n",
       "6915                -1  \n",
       "6916                -1  \n",
       "6917                -1  \n",
       "6918                 0  \n",
       "...                ...  \n",
       "656577              -1  \n",
       "656578               3  \n",
       "656579              -1  \n",
       "656580               0  \n",
       "656581              -1  \n",
       "\n",
       "[1684 rows x 7 columns]"
      ]
     },
     "execution_count": 22,
     "metadata": {},
     "output_type": "execute_result"
    }
   ],
   "source": [
    "data_jun14_filt['cluster_dbscan']=label.tolist()\n",
    "data_jun14_filt"
   ]
  },
  {
   "cell_type": "code",
   "execution_count": 23,
   "metadata": {},
   "outputs": [
    {
     "data": {
      "text/plain": [
       "-1    1265\n",
       " 0     170\n",
       " 2      88\n",
       " 1      60\n",
       " 4      55\n",
       " 3      46\n",
       "Name: cluster_dbscan, dtype: int64"
      ]
     },
     "execution_count": 23,
     "metadata": {},
     "output_type": "execute_result"
    }
   ],
   "source": [
    "data_jun14_filt['cluster_dbscan'].value_counts()"
   ]
  },
  {
   "cell_type": "code",
   "execution_count": 24,
   "metadata": {},
   "outputs": [
    {
     "data": {
      "text/html": [
       "<div>\n",
       "<style scoped>\n",
       "    .dataframe tbody tr th:only-of-type {\n",
       "        vertical-align: middle;\n",
       "    }\n",
       "\n",
       "    .dataframe tbody tr th {\n",
       "        vertical-align: top;\n",
       "    }\n",
       "\n",
       "    .dataframe thead th {\n",
       "        text-align: right;\n",
       "    }\n",
       "</style>\n",
       "<table border=\"1\" class=\"dataframe\">\n",
       "  <thead>\n",
       "    <tr style=\"text-align: right;\">\n",
       "      <th></th>\n",
       "      <th>Lat</th>\n",
       "      <th>Lon</th>\n",
       "      <th>hour</th>\n",
       "      <th>dayofmonth</th>\n",
       "      <th>day_name</th>\n",
       "      <th>Cluster_KMeans</th>\n",
       "      <th>cluster_dbscan</th>\n",
       "    </tr>\n",
       "  </thead>\n",
       "  <tbody>\n",
       "    <tr>\n",
       "      <th>6918</th>\n",
       "      <td>40.7325</td>\n",
       "      <td>-74.0005</td>\n",
       "      <td>22</td>\n",
       "      <td>6</td>\n",
       "      <td>Friday</td>\n",
       "      <td>1</td>\n",
       "      <td>0</td>\n",
       "    </tr>\n",
       "    <tr>\n",
       "      <th>6921</th>\n",
       "      <td>40.7330</td>\n",
       "      <td>-74.0069</td>\n",
       "      <td>22</td>\n",
       "      <td>6</td>\n",
       "      <td>Friday</td>\n",
       "      <td>1</td>\n",
       "      <td>0</td>\n",
       "    </tr>\n",
       "    <tr>\n",
       "      <th>6925</th>\n",
       "      <td>40.7386</td>\n",
       "      <td>-74.0081</td>\n",
       "      <td>22</td>\n",
       "      <td>6</td>\n",
       "      <td>Friday</td>\n",
       "      <td>1</td>\n",
       "      <td>4</td>\n",
       "    </tr>\n",
       "    <tr>\n",
       "      <th>6928</th>\n",
       "      <td>40.7301</td>\n",
       "      <td>-73.9917</td>\n",
       "      <td>22</td>\n",
       "      <td>6</td>\n",
       "      <td>Friday</td>\n",
       "      <td>1</td>\n",
       "      <td>1</td>\n",
       "    </tr>\n",
       "    <tr>\n",
       "      <th>6931</th>\n",
       "      <td>40.7411</td>\n",
       "      <td>-74.0078</td>\n",
       "      <td>22</td>\n",
       "      <td>6</td>\n",
       "      <td>Friday</td>\n",
       "      <td>1</td>\n",
       "      <td>4</td>\n",
       "    </tr>\n",
       "    <tr>\n",
       "      <th>...</th>\n",
       "      <td>...</td>\n",
       "      <td>...</td>\n",
       "      <td>...</td>\n",
       "      <td>...</td>\n",
       "      <td>...</td>\n",
       "      <td>...</td>\n",
       "      <td>...</td>\n",
       "    </tr>\n",
       "    <tr>\n",
       "      <th>656572</th>\n",
       "      <td>40.7402</td>\n",
       "      <td>-74.0080</td>\n",
       "      <td>22</td>\n",
       "      <td>6</td>\n",
       "      <td>Friday</td>\n",
       "      <td>1</td>\n",
       "      <td>4</td>\n",
       "    </tr>\n",
       "    <tr>\n",
       "      <th>656573</th>\n",
       "      <td>40.7438</td>\n",
       "      <td>-73.9716</td>\n",
       "      <td>22</td>\n",
       "      <td>6</td>\n",
       "      <td>Friday</td>\n",
       "      <td>0</td>\n",
       "      <td>2</td>\n",
       "    </tr>\n",
       "    <tr>\n",
       "      <th>656575</th>\n",
       "      <td>40.8030</td>\n",
       "      <td>-73.9335</td>\n",
       "      <td>22</td>\n",
       "      <td>6</td>\n",
       "      <td>Friday</td>\n",
       "      <td>4</td>\n",
       "      <td>3</td>\n",
       "    </tr>\n",
       "    <tr>\n",
       "      <th>656578</th>\n",
       "      <td>40.8046</td>\n",
       "      <td>-73.9372</td>\n",
       "      <td>22</td>\n",
       "      <td>6</td>\n",
       "      <td>Friday</td>\n",
       "      <td>4</td>\n",
       "      <td>3</td>\n",
       "    </tr>\n",
       "    <tr>\n",
       "      <th>656580</th>\n",
       "      <td>40.7345</td>\n",
       "      <td>-74.0014</td>\n",
       "      <td>22</td>\n",
       "      <td>6</td>\n",
       "      <td>Friday</td>\n",
       "      <td>1</td>\n",
       "      <td>0</td>\n",
       "    </tr>\n",
       "  </tbody>\n",
       "</table>\n",
       "<p>419 rows × 7 columns</p>\n",
       "</div>"
      ],
      "text/plain": [
       "            Lat      Lon  hour  dayofmonth day_name  Cluster_KMeans  \\\n",
       "6918    40.7325 -74.0005    22           6   Friday               1   \n",
       "6921    40.7330 -74.0069    22           6   Friday               1   \n",
       "6925    40.7386 -74.0081    22           6   Friday               1   \n",
       "6928    40.7301 -73.9917    22           6   Friday               1   \n",
       "6931    40.7411 -74.0078    22           6   Friday               1   \n",
       "...         ...      ...   ...         ...      ...             ...   \n",
       "656572  40.7402 -74.0080    22           6   Friday               1   \n",
       "656573  40.7438 -73.9716    22           6   Friday               0   \n",
       "656575  40.8030 -73.9335    22           6   Friday               4   \n",
       "656578  40.8046 -73.9372    22           6   Friday               4   \n",
       "656580  40.7345 -74.0014    22           6   Friday               1   \n",
       "\n",
       "        cluster_dbscan  \n",
       "6918                 0  \n",
       "6921                 0  \n",
       "6925                 4  \n",
       "6928                 1  \n",
       "6931                 4  \n",
       "...                ...  \n",
       "656572               4  \n",
       "656573               2  \n",
       "656575               3  \n",
       "656578               3  \n",
       "656580               0  \n",
       "\n",
       "[419 rows x 7 columns]"
      ]
     },
     "execution_count": 24,
     "metadata": {},
     "output_type": "execute_result"
    }
   ],
   "source": [
    "data_clean=data_jun14_filt.loc[data_jun14_filt['cluster_dbscan']!=-1]\n",
    "data_clean"
   ]
  },
  {
   "cell_type": "code",
   "execution_count": 25,
   "metadata": {},
   "outputs": [
    {
     "data": {
      "text/html": [
       "<iframe\n",
       "    scrolling=\"no\"\n",
       "    width=\"100%\"\n",
       "    height=\"545px\"\n",
       "    src=\"iframe_figures/figure_25.html\"\n",
       "    frameborder=\"0\"\n",
       "    allowfullscreen\n",
       "></iframe>\n"
      ]
     },
     "metadata": {},
     "output_type": "display_data"
    }
   ],
   "source": [
    "fig = px.scatter_mapbox(data_clean, lat=\"Lat\", lon=\"Lon\", color=\"cluster_dbscan\", mapbox_style=\"carto-positron\", zoom=10)\n",
    "fig.show()"
   ]
  },
  {
   "cell_type": "markdown",
   "metadata": {},
   "source": [
    "Si Uber connaît la tendance des clusters et s'il reçoit beaucoup de demandes de covoiturage, il peut alors stratégiquement placer ses chauffeurs au bon endroit où la probabilité d'obtenir une demande de covoiturage est énorme. Cela aidera Uber à servir le client plus rapidement car les véhicules sont placés plus près de l'emplacement et cela aidera également à développer leur activité.\n",
    "\n",
    "Uber peut savoir à quel moment de la journée il y a  le plus de demandes de course. Par exemple, dans notre exemple j'ai choisi au  hasard la date du Vnedredi 6 Juin 2014 à 22 H comme c'est un Vendredi je me suis dit qu'il doit avoir certainement beaucoup de personnes qui sortent et donc beaucoup plus de trafic. On peut remarquer que dans notre exemple on a beaucoup plus de demandes dans le secteur du cluster 0 à comparer au cluster N° 3 donc on peut proposer à uber de placer beaucoup plus de voiture à proximité du clutser 0 ou à rediriger certaines voitures qui se trouvent près du cluster 3 en direction du cluster 0 qui se trouve entre West Village et Hudson Square. \n",
    "\n",
    "Uber peut utiliser ces clusters pour une tarification optimale en analysant quel cluster traite les demandes maximales, les heures de pointe, etc. Supposons que s'ils n'ont pas trop de véhicules à envoyer à un endroit particulier (plus de demande), ils peuvent alors faire une tarification optimale car la demande est élevée et l'offre est moindre.\n",
    "\n"
   ]
  },
  {
   "cell_type": "code",
   "execution_count": null,
   "metadata": {},
   "outputs": [],
   "source": []
  }
 ],
 "metadata": {
  "kernelspec": {
   "display_name": "Python 3",
   "language": "python",
   "name": "python3"
  },
  "language_info": {
   "codemirror_mode": {
    "name": "ipython",
    "version": 3
   },
   "file_extension": ".py",
   "mimetype": "text/x-python",
   "name": "python",
   "nbconvert_exporter": "python",
   "pygments_lexer": "ipython3",
   "version": "3.8.6"
  }
 },
 "nbformat": 4,
 "nbformat_minor": 4
}
